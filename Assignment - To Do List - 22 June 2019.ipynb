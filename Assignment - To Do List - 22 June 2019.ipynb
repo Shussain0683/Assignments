{
 "cells": [
  {
   "cell_type": "code",
   "execution_count": 1,
   "metadata": {
    "scrolled": false
   },
   "outputs": [
    {
     "name": "stdout",
     "output_type": "stream",
     "text": [
      "** To Do List **\n",
      "\n",
      "Please enter total number of Tasks List: 06\n",
      "Please enter Task Name: Check Emails\n",
      "Please enter Task Name: Book Orders\n",
      "Please enter Task Name: Send Offer Letters\n",
      "Please enter Task Name: Follow-up new Clients\n",
      "Please enter Task Name: Attend In-house Session\n",
      "Please enter Task Name: Go to Gym\n",
      "['Check Emails', 'Book Orders', 'Send Offer Letters', 'Follow-up new Clients', 'Attend In-house Session', 'Go to Gym']\n"
     ]
    }
   ],
   "source": [
    "print(\"** To Do List **\")\n",
    "print()\n",
    "\n",
    "To_Do_List = []\n",
    "\n",
    "Number_of_Tasks = int(input(\"Please enter total number of Tasks List: \"))\n",
    "for i in range(Number_of_Tasks):\n",
    "    Number_of_Tasks = input(\"Please enter Task Name: \")\n",
    "    To_Do_List.append(Number_of_Tasks)\n",
    "print(To_Do_List)"
   ]
  },
  {
   "cell_type": "code",
   "execution_count": 2,
   "metadata": {},
   "outputs": [
    {
     "name": "stdout",
     "output_type": "stream",
     "text": [
      "Please enter the number of Tasks to be deleted incase of wrong task entered: 02\n",
      "Please enter Name of Task to be deleted: Send Offer Letters\n",
      "Please enter Name of Task to be deleted: Go to Gym\n",
      "['Check Emails', 'Book Orders', 'Follow-up new Clients', 'Attend In-house Session']\n"
     ]
    }
   ],
   "source": [
    "Delete_Tasks = int(input(\"Please enter the number of Tasks to be deleted incase of wrong task entered: \"))\n",
    "for i in range(Delete_Tasks):\n",
    "    Delete_Tasks = input(\"Please enter Name of Task to be deleted: \")\n",
    "    To_Do_List.remove(Delete_Tasks)\n",
    "print(To_Do_List)"
   ]
  }
 ],
 "metadata": {
  "kernelspec": {
   "display_name": "Python 3",
   "language": "python",
   "name": "python3"
  },
  "language_info": {
   "codemirror_mode": {
    "name": "ipython",
    "version": 3
   },
   "file_extension": ".py",
   "mimetype": "text/x-python",
   "name": "python",
   "nbconvert_exporter": "python",
   "pygments_lexer": "ipython3",
   "version": "3.7.3"
  }
 },
 "nbformat": 4,
 "nbformat_minor": 2
}
